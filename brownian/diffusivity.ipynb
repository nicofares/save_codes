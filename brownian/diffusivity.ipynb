{
 "cells": [
  {
   "cell_type": "markdown",
   "id": "30e2f708-3a1e-44bd-b372-806092ad3ea8",
   "metadata": {},
   "source": [
    "# Diffusivity-Related Analysis "
   ]
  },
  {
   "cell_type": "code",
   "execution_count": null,
   "id": "041efc3c-84fc-4b41-ac4b-7b3ef57d3f31",
   "metadata": {},
   "outputs": [],
   "source": []
  },
  {
   "cell_type": "markdown",
   "id": "305ca11b-7893-4c44-8f90-50bd2a9d476a",
   "metadata": {},
   "source": [
    "# Importations"
   ]
  },
  {
   "cell_type": "code",
   "execution_count": 2,
   "id": "2ed3fc26-751d-4840-bd22-19ff1c278f45",
   "metadata": {},
   "outputs": [],
   "source": [
    "import numpy as np\n",
    "from scipy.io import loadmat, savemat\n",
    "from scipy.optimize import curve_fit\n",
    "from tqdm import tqdm"
   ]
  },
  {
   "cell_type": "code",
   "execution_count": 3,
   "id": "f478b7b4-fc10-4135-ad93-8f4c36c938a3",
   "metadata": {},
   "outputs": [],
   "source": [
    "from StochasticForceInference.StochasticForceInference import *\n",
    "from StochasticForceInference.fun_SFI import Compute_diffusion"
   ]
  },
  {
   "cell_type": "code",
   "execution_count": 4,
   "id": "eec5ad1f-8adb-4030-878e-e11683f7753d",
   "metadata": {},
   "outputs": [],
   "source": [
    "import ComputeObservables as co"
   ]
  },
  {
   "cell_type": "code",
   "execution_count": 5,
   "id": "71215142-6406-4656-8a4a-99cbce4b6e68",
   "metadata": {},
   "outputs": [],
   "source": [
    "%matplotlib inline\n",
    "\n",
    "import matplotlib.pyplot as plt\n",
    "from mpl_toolkits import mplot3d\n",
    "import matplotlib as mpl\n",
    "from matplotlib import rc\n",
    "import matplotlib.colors as mplcolors\n",
    "from mpltools import annotation\n",
    "\n",
    "rc('lines', linewidth=1.5, markeredgecolor='k', markeredgewidth=0.4)\n",
    "rc('xtick', direction='in', labelsize=9)\n",
    "rc('ytick', direction='in', labelsize=9)\n",
    "\n",
    "rc('font', family='serif', size=9)\n",
    "rc('text', usetex=True)\n",
    "\n",
    "rc('figure', dpi=200)\n",
    "rc('savefig', dpi=200)"
   ]
  },
  {
   "cell_type": "markdown",
   "id": "8fd3d9b8-c70a-476d-a0b5-dcdf83d55b4c",
   "metadata": {},
   "source": [
    "# Global variables"
   ]
  },
  {
   "cell_type": "code",
   "execution_count": 6,
   "id": "4faaf60a-a88a-47dc-a782-b62ee459a0a5",
   "metadata": {},
   "outputs": [],
   "source": [
    "kT = 4e-21"
   ]
  },
  {
   "cell_type": "markdown",
   "id": "b817023d-d225-4c84-a2ba-6fc4983f4459",
   "metadata": {},
   "source": [
    "# Find Experiment with the Smallest Offset on Diffusivities"
   ]
  },
  {
   "cell_type": "code",
   "execution_count": 7,
   "id": "71389bd4-4d48-4d15-bbb6-c00873f444d6",
   "metadata": {},
   "outputs": [],
   "source": [
    "### PS in salted water (3-um or 6-um spheres) \n",
    "dir0_0 = '../../analysis_droplets/traj_and_results/ref_PS_water/maxou_PRR_SFI_order_2/data_exp_PS_exp_2020_analysis_20230930_filename_data_exp_glass_exp_2020_analysis_20230322_filename_TRAJ_MAXOU_fit_result_dur_27052020_n_r_fix_0p0513_wav_532_r_1p516_n_1p597.mat'\n",
    "dir0_1 = '../../analysis_droplets/traj_and_results/ref_PS_water/C4_SFI_order_2/data_exp_PS_exp_20211019_analysis_20230929_filename_data_exp_glass_exp_20211019_analysis_20230419_filename_TRAJ_C4_fit_result_rigid_08122021rp_1p5185_np_1p5819.mat'\n",
    "dir0_2 = '../../analysis_glass/verre_2023_03_3um/5/data_exp_glass_exp_20230310_analysis_20230422_filename_traj_rp_1p4749_np_1p5843.mat'\n",
    "dir0_3 = '../../analysis_glass/verre_2023_08_6um/5/data_exp_PS_exp_20230824_analysis_20230829_filename_traj_rp_2p9713_np_1p5884_vid_5.mat'\n",
    "dir0_4 = '../../analysis_glass/verre_2023_08_6um/3/data_exp_PS_exp_20230824_analysis_20230829_filename_traj_rp_2p9864_np_1p5864_vid_3.mat'\n",
    "dir0_5 = '../../analysis_glass/verre_2023_08_6um/1/data_exp_PS_exp_20230824_analysis_20230829_filename_traj_rp_2p9765_np_1p5862_vid_1.mat'\n",
    "dir0_6 = '../../analysis_droplets/traj_and_results/ref_PS_water/PS_3um_march_2023/3/data_exp_glass_exp_20230310_analysis_20230424_filename_traj_rp_1p4749_np_1p5812.mat'\n",
    "dir0_7 = '../../analysis_droplets/traj_and_results/ref_PS_water/PS_3um_march_2023/6/data_exp_glass_exp_20230310_analysis_20230424_filename_traj_rp_1p4711_np_1p5834.mat'\n",
    "dir0_8 = '../../analysis_droplets/traj_and_results/ref_PS_water/PS_3um_march_2023/5/data_exp_glass_exp_20230310_analysis_20230422_filename_traj_rp_1p4749_np_1p5843.mat'\n",
    "dir0_9 = './PS_3um_water_20240909_fps100/data_exp_PS_exp_20240909_analysis_20250707_filename_traj_rp_1p4768_np_1p582_vid_1.mat'"
   ]
  },
  {
   "cell_type": "code",
   "execution_count": 8,
   "id": "cac93483-33b5-4172-981f-a6f66392b0bb",
   "metadata": {},
   "outputs": [],
   "source": [
    "data0_0 = loadmat(dir0_0, squeeze_me=True)\n",
    "data0_1 = loadmat(dir0_1, squeeze_me=True)\n",
    "data0_2 = loadmat(dir0_2, squeeze_me=True)\n",
    "data0_3 = loadmat(dir0_3, squeeze_me=True)\n",
    "data0_4 = loadmat(dir0_4, squeeze_me=True)\n",
    "data0_5 = loadmat(dir0_5, squeeze_me=True)\n",
    "data0_6 = loadmat(dir0_6, squeeze_me=True)\n",
    "data0_7 = loadmat(dir0_7, squeeze_me=True)\n",
    "data0_8 = loadmat(dir0_8, squeeze_me=True)\n",
    "data0_9 = loadmat(dir0_9, squeeze_me=True)"
   ]
  },
  {
   "cell_type": "code",
   "execution_count": 9,
   "id": "8051d6d9-485a-4834-9854-6828f5d8c34d",
   "metadata": {},
   "outputs": [],
   "source": [
    "datas_0 = [data0_0, data0_1, data0_2, data0_3, data0_4, data0_5, data0_6, data0_7, data0_8, data0_9]"
   ]
  },
  {
   "cell_type": "code",
   "execution_count": 10,
   "id": "0c66c091-031e-4da5-a780-ec6702b94a53",
   "metadata": {},
   "outputs": [
    {
     "name": "stdout",
     "output_type": "stream",
     "text": [
      "0 78.50698687091214\n",
      "1 143.10763334737453\n",
      "2 39.2879748851993\n",
      "3 3.400390025093924\n",
      "4 93.16159987839524\n",
      "5 31.561167891730033\n",
      "6 40.80862527824976\n",
      "7 81.45964423271222\n",
      "8 39.2879748851993\n",
      "9 1.6346255087281993\n"
     ]
    }
   ],
   "source": [
    "for i, data in enumerate(datas_0[:]):\n",
    "    print(i, data['fitted_b'] * 1e9)"
   ]
  },
  {
   "cell_type": "code",
   "execution_count": 11,
   "id": "d28b2047-21cb-42a8-ab5a-cced593bf5fd",
   "metadata": {},
   "outputs": [],
   "source": [
    "### AR-1000 droplets in pure water\n",
    "dir1 = '../../analysis_droplets/results/2nd_try_only_perfect_exp/AR1000_water/data_after_analysis/'\n",
    "dir1_0 = dir1 + 'data_exp_AR1000_exp_20230627_analysis_20240108_filename_traj_rp_1p6166_np_1p4649_vid_3.mat'\n",
    "dir1_1 = dir1 + 'data_exp_AR1000_exp_20230721_analysis_20240108_filename_traj_rp_1p5248_np_1p4669_vid_10.mat'\n",
    "dir1_2 = dir1 + 'data_exp_AR1000_exp_20230912_analysis_20240108_filename_traj_rp_2p004_np_1p4597_vid_3.mat'\n",
    "dir1_3 = dir1 + 'data_exp_AR1000_exp_20230912_analysis_20240108_filename_traj_rp_2p0075_np_1p4584_vid_1.mat'"
   ]
  },
  {
   "cell_type": "code",
   "execution_count": 12,
   "id": "7e404520-4de5-4c8f-b53c-23ac8ca725fa",
   "metadata": {},
   "outputs": [],
   "source": [
    "data1_0 = loadmat(dir1_0, squeeze_me=True)\n",
    "data1_1 = loadmat(dir1_1, squeeze_me=True)\n",
    "data1_2 = loadmat(dir1_2, squeeze_me=True)\n",
    "data1_3 = loadmat(dir1_3, squeeze_me=True)"
   ]
  },
  {
   "cell_type": "code",
   "execution_count": 13,
   "id": "f5d38ff9-06da-4c0d-85cf-60787f8cc6a6",
   "metadata": {},
   "outputs": [],
   "source": [
    "datas_1 = [data1_0, data1_1, data1_2, data1_3]"
   ]
  },
  {
   "cell_type": "markdown",
   "id": "10009bc0-4fb3-49a5-a75d-bdf84ce8c433",
   "metadata": {},
   "source": [
    "# Brenner vs. Padé"
   ]
  },
  {
   "cell_type": "code",
   "execution_count": 14,
   "id": "7dba2b6d-3db1-4549-9169-b64262aaf1a7",
   "metadata": {},
   "outputs": [],
   "source": [
    "def Dz_z(z, r=1.5e-6):\n",
    "    return (6 * z ** 2 + 2 * r * z) / (6 * z ** 2 + 9 * r * z + 2 * r ** 2)"
   ]
  },
  {
   "cell_type": "code",
   "execution_count": 15,
   "id": "15e0a203-018c-43be-ad47-2c655014ca56",
   "metadata": {},
   "outputs": [],
   "source": [
    "from mpmath import nsum\n",
    "from math import acosh, sinh, inf\n",
    "\n",
    "def sum_brenner(z, a=1.5e-6):\n",
    "    alpha = acosh((a+z) / a)\n",
    "    def f(n):\n",
    "        p = (n * (n + 1) / ((2 * n - 1) * (2 * n + 3))) \n",
    "        num = (2 * sinh((2 * n + 1) * alpha) + (2 * n + 1) * sinh(2 * alpha))\n",
    "        denom = 4 * sinh((n + 1 / 2) * alpha) ** 2 - (2 * n + 1) ** 2 * sinh(alpha) ** 2\n",
    "        return p * (num / denom - 1)\n",
    "    res = nsum(f, [1, inf])\n",
    "    res = 4/3 * sinh(alpha) * res\n",
    "    res = 1 / res\n",
    "    return res"
   ]
  },
  {
   "cell_type": "code",
   "execution_count": 16,
   "id": "47594a69-7fb3-4d4b-bf68-a670856b5c1f",
   "metadata": {},
   "outputs": [],
   "source": [
    "a = 1.5e-6\n",
    "\n",
    "zz = np.linspace(30e-9, 3e-6, 100)"
   ]
  },
  {
   "cell_type": "code",
   "execution_count": 17,
   "id": "3ba0077b-cc8d-4d2f-aaaa-b641140a647a",
   "metadata": {},
   "outputs": [],
   "source": [
    "pade = Dz_z(zz, r=a)\n",
    "lubr = zz / a"
   ]
  },
  {
   "cell_type": "code",
   "execution_count": 18,
   "id": "718ea2f6-57f1-4180-85cf-cec614de2e52",
   "metadata": {},
   "outputs": [
    {
     "name": "stderr",
     "output_type": "stream",
     "text": [
      "100%|████████████████████████████████████████| 100/100 [00:00<00:00, 140.57it/s]\n"
     ]
    }
   ],
   "source": [
    "bren = np.zeros_like(zz)\n",
    "for i in tqdm(range(len(zz))):\n",
    "    bren[i] = sum_brenner(zz[i], a=a)"
   ]
  },
  {
   "cell_type": "code",
   "execution_count": 19,
   "id": "548ad720-e667-4090-b157-2bb43c41fdf7",
   "metadata": {},
   "outputs": [],
   "source": [
    "relative_error_lubr = np.abs((bren - lubr) / bren)\n",
    "relative_error_pade = np.abs((bren - pade) / bren)"
   ]
  },
  {
   "cell_type": "code",
   "execution_count": 20,
   "id": "746d74c4-cdd3-410f-89e9-82566aa8ec15",
   "metadata": {},
   "outputs": [
    {
     "data": {
      "image/png": "[encoded data removed]",
      "text/plain": [
       "<Figure size 629.921x393.701 with 1 Axes>"
      ]
     },
     "metadata": {},
     "output_type": "display_data"
    }
   ],
   "source": [
    "fig, ax = plt.subplots(1, 1, figsize=(8/2.54, 5/2.54))\n",
    "\n",
    "ax.plot(zz*1e6, bren, ls='-', c='k')\n",
    "ax.plot(zz*1e6, pade, ls='--', c='tab:red')\n",
    "ax.plot(zz*1e6, lubr, ls='-.', c='tab:blue')\n",
    "\n",
    "ax.set(xscale='log', yscale='log', xlabel=r'$z \\, \\mathrm{(\\mu m)}$', ylabel=r'$D_\\perp / D_0$')\n",
    "\n",
    "plt.tight_layout()\n",
    "plt.show()"
   ]
  },
  {
   "cell_type": "code",
   "execution_count": 21,
   "id": "89df29cd-cda3-410c-9167-a25fb3a8cd3c",
   "metadata": {},
   "outputs": [
    {
     "data": {
      "image/png": "[encoded data removed]",
      "text/plain": [
       "<Figure size 629.921x393.701 with 1 Axes>"
      ]
     },
     "metadata": {},
     "output_type": "display_data"
    }
   ],
   "source": [
    "fig, ax = plt.subplots(1, 1, figsize=(8/2.54, 5/2.54))\n",
    "\n",
    "ax.plot(zz*1e6, relative_error_lubr, ls='-.', c='tab:blue')\n",
    "ax.plot(zz*1e6, relative_error_pade, ls='--', c='tab:red')\n",
    "\n",
    "ax.set(xscale='log', yscale='log', xlabel=r'$z \\, \\mathrm{(\\mu m)}$', ylabel=r'Relative error')\n",
    "\n",
    "plt.tight_layout()\n",
    "plt.show()"
   ]
  },
  {
   "cell_type": "code",
   "execution_count": 22,
   "id": "7c55278d-bad6-4802-9cca-19eb9576c0ae",
   "metadata": {},
   "outputs": [],
   "source": [
    "diffusivities = {\n",
    "    'zz': np.copy(zz), \n",
    "    'pade': np.copy(pade), \n",
    "    'brenner': np.copy(bren), \n",
    "    'lubrication': np.copy(lubr), \n",
    "    'relative_error_pade': np.copy(relative_error_pade), \n",
    "    'relative_error_lubr': np.copy(relative_error_lubr), \n",
    "}"
   ]
  },
  {
   "cell_type": "markdown",
   "id": "070b5f72-0a9f-4b2d-adcc-893c72f895a8",
   "metadata": {},
   "source": [
    "# Naive Diffusivity Computation"
   ]
  },
  {
   "cell_type": "code",
   "execution_count": 23,
   "id": "027f5fff-b745-496a-b832-bc4157b8d69c",
   "metadata": {},
   "outputs": [],
   "source": [
    "data = datas_0[-1]"
   ]
  },
  {
   "cell_type": "code",
   "execution_count": 24,
   "id": "0fb17e34-7a03-445a-ad55-68609524d6b5",
   "metadata": {},
   "outputs": [],
   "source": [
    "z = data['z_dedrift']\n",
    "fps = data['fps']\n",
    "a = data['r']\n",
    "D0 = data['D0']"
   ]
  },
  {
   "cell_type": "code",
   "execution_count": 25,
   "id": "1b5346a7-9112-414f-9145-45fbb732a9cc",
   "metadata": {},
   "outputs": [],
   "source": [
    "def naive(bins_edges, traj_z, times=[1]):\n",
    "    # We first get all the different variables of the problem\n",
    "    Y = bins_edges\n",
    "    zz = traj_z\n",
    "    # We choose over wich time we want to compute the diffusion coefficient     \n",
    "    # We initialize the variable used to store the results.\n",
    "    res = np.zeros((len(times), len(Y[:-1])))\n",
    "    err = np.zeros((len(times), len(Y[:-1])))\n",
    "    for n, i in enumerate(times):\n",
    "        # Compute the Delta x = x(Dt + t) - x(t) for given Dt -- same over y\n",
    "        Dzs = zz[i:] - zz[0:-i]\n",
    "        Dzs = (Dzs ** 2) / (2 * i/fps)\n",
    "        # Now for each z-bin we are going to measure the z position\n",
    "        for m in range(len(Y)-1):\n",
    "            # We take the Dz corresponding the actual bin \n",
    "            dz = Dzs[(zz[:-i] > Y[m]) & (zz[:-i] < Y[m+1])]\n",
    "            res[n,m] = np.nanmean(dz) \n",
    "            err[n,m] = np.nanstd(dz) / np.sqrt(len(dz))\n",
    "    res = np.nanmean(res, axis=0)\n",
    "    err = np.nanmean(err, axis=0)\n",
    "    return res, err"
   ]
  },
  {
   "cell_type": "code",
   "execution_count": 26,
   "id": "95f8fbd5-01b5-4776-8742-ced7c86d510a",
   "metadata": {},
   "outputs": [],
   "source": [
    "bins_edges = np.logspace(np.log10(30e-9), np.log10(2e-6), 30)"
   ]
  },
  {
   "cell_type": "code",
   "execution_count": 27,
   "id": "8fc851f6-4375-4db7-812a-bc93af8ca774",
   "metadata": {},
   "outputs": [],
   "source": [
    "exp_naive, err_naive = naive(bins_edges, z)\n",
    "bins = bins_edges[:-1]"
   ]
  },
  {
   "cell_type": "code",
   "execution_count": 28,
   "id": "36449a08-5f93-4cf7-94c6-cce61529e489",
   "metadata": {},
   "outputs": [
    {
     "data": {
      "image/png": "[encoded data removed]",
      "text/plain": [
       "<Figure size 551.181x354.331 with 1 Axes>"
      ]
     },
     "metadata": {},
     "output_type": "display_data"
    }
   ],
   "source": [
    "fig, ax = plt.subplots(1, 1, figsize=(7/2.54, 4.5/2.54))\n",
    "\n",
    "ax.plot(bins_edges*1e6, Dz_z(bins_edges, r=a), ls='--', c='k')\n",
    "ax.plot(bins*1e6, exp_naive / D0, ls='', marker='s', ms=3, c='tab:purple')\n",
    "ax.plot(data['x_D_perp_z']*1e6, data['y_D_perp_z'], ls='', marker='o', ms=3, c='tab:red')\n",
    "\n",
    "ax.set(xscale='log', yscale='log', xlabel=r'$z \\, \\mathrm{(\\mu m)}$', ylabel=r'$D_\\perp / D_0$')\n",
    "\n",
    "plt.tight_layout()\n",
    "plt.show()"
   ]
  },
  {
   "cell_type": "code",
   "execution_count": 29,
   "id": "b4181032-60c1-4afb-a9de-76ae03d830ec",
   "metadata": {},
   "outputs": [],
   "source": [
    "diffusivities['bins'] = np.copy(bins)\n",
    "diffusivities['D_exp_naive'] = np.copy(exp_naive)\n",
    "diffusivities['D_err_naive'] = np.copy(err_naive)\n",
    "diffusivities['D0'] = D0"
   ]
  },
  {
   "cell_type": "code",
   "execution_count": null,
   "id": "b0e8f6c1-87d7-40ed-873f-83f7fbdde877",
   "metadata": {},
   "outputs": [],
   "source": []
  },
  {
   "cell_type": "code",
   "execution_count": null,
   "id": "d2fe6281-b493-4f21-a410-553b61d21381",
   "metadata": {},
   "outputs": [],
   "source": []
  },
  {
   "cell_type": "code",
   "execution_count": 30,
   "id": "bac33c0c-72e7-4b18-a654-df1fb4a3afad",
   "metadata": {},
   "outputs": [],
   "source": [
    "# savemat('diffusivities.mat', diffusivities)"
   ]
  },
  {
   "cell_type": "code",
   "execution_count": null,
   "id": "2fc7b3a0-12a2-4010-996e-517a064bb926",
   "metadata": {},
   "outputs": [],
   "source": []
  },
  {
   "cell_type": "markdown",
   "id": "36a6f0b5-668e-42e3-88cd-bf69a1a7bb4b",
   "metadata": {},
   "source": [
    "# Auto-Correlations"
   ]
  },
  {
   "cell_type": "code",
   "execution_count": 31,
   "id": "c232b975-e0db-441a-8299-4c0320bed31f",
   "metadata": {},
   "outputs": [],
   "source": [
    "data = datas_0[0]"
   ]
  },
  {
   "cell_type": "code",
   "execution_count": 35,
   "id": "34202f47-7fdb-4758-96d2-5687e5f89b87",
   "metadata": {},
   "outputs": [],
   "source": [
    "def autocor(x):\n",
    "    autocor_dx = x[1:] - x[:-1]\n",
    "    autocor_dx = autocor_dx - np.mean(autocor_dx)\n",
    "    sigma2_x = np.mean(autocor_dx[1:] * autocor_dx[:-1]) * (1 - 2 * 109/750)\n",
    "    err_x = np.sqrt(sigma2_x)\n",
    "    return err_x"
   ]
  },
  {
   "cell_type": "code",
   "execution_count": 36,
   "id": "d9778eae-3ec6-45c9-a486-8fb33729d636",
   "metadata": {},
   "outputs": [
    {
     "data": {
      "text/plain": [
       "9.827933891411012"
      ]
     },
     "execution_count": 36,
     "metadata": {},
     "output_type": "execute_result"
    }
   ],
   "source": [
    "autocor(data['x']) * 1e9"
   ]
  },
  {
   "cell_type": "code",
   "execution_count": 37,
   "id": "2040b626-766b-4dd6-8cdc-d1a809fa290f",
   "metadata": {},
   "outputs": [
    {
     "data": {
      "text/plain": [
       "4.7308666687694725"
      ]
     },
     "execution_count": 37,
     "metadata": {},
     "output_type": "execute_result"
    }
   ],
   "source": [
    "autocor(data['z']) * 1e9"
   ]
  },
  {
   "cell_type": "code",
   "execution_count": null,
   "id": "042c4764-696c-4862-9615-7161ded8357c",
   "metadata": {},
   "outputs": [],
   "source": []
  }
 ],
 "metadata": {
  "kernelspec": {
   "display_name": "Python 3 (ipykernel)",
   "language": "python",
   "name": "python3"
  },
  "language_info": {
   "codemirror_mode": {
    "name": "ipython",
    "version": 3
   },
   "file_extension": ".py",
   "mimetype": "text/x-python",
   "name": "python",
   "nbconvert_exporter": "python",
   "pygments_lexer": "ipython3",
   "version": "3.10.18"
  }
 },
 "nbformat": 4,
 "nbformat_minor": 5
}
