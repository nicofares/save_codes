{
 "cells": [
  {
   "cell_type": "code",
   "execution_count": null,
   "id": "2474fd86-4190-4b0d-bc4e-df2dcb9008a7",
   "metadata": {},
   "outputs": [],
   "source": []
  },
  {
   "cell_type": "code",
   "execution_count": 15,
   "id": "1bcbe0b7-eb11-49c4-ad3d-517c791028e4",
   "metadata": {},
   "outputs": [
    {
     "name": "stdout",
     "output_type": "stream",
     "text": [
      "[0, 1, 2, 3, 4, 5, 6, 7, 8, 9, 10]\n"
     ]
    },
    {
     "name": "stderr",
     "output_type": "stream",
     "text": [
      "100%|██████████████████████████████████████| 8107/8107 [01:13<00:00, 110.35it/s]\n"
     ]
    }
   ],
   "source": [
    "# Convert a stack of images to mp4 video\n",
    "\n",
    "import os\n",
    "import cv2 \n",
    "from tqdm import tqdm\n",
    "\n",
    "path = '/media/n.fares/KINGSTON/gliding_I_T/data/20250221/20250221_I_dot_6_quarter_open_2/'\n",
    "output_name = 'chlamys_gliding.mp4'\n",
    "\n",
    "fps = 2\n",
    "\n",
    "files = os.listdir(path)\n",
    "def key(string):\n",
    "    txt = 'Basler_acA720-520uc__40316400__20250221_122818365_' #'image'\n",
    "    extension = '.tiff'\n",
    "    i1 = string.find(txt) + len(txt)\n",
    "    i2 = string.find(extension)\n",
    "    nb = int(string[i1:i2])\n",
    "    return nb\n",
    "files.sort(key=key)\n",
    "print([key(f) for f in files[:11]])\n",
    "\n",
    "im1 = cv2.imread(path + files[0])\n",
    "w, h, _ = im1.shape\n",
    "\n",
    "fourcc = cv2.VideoWriter_fourcc('m', 'p', '4', 'v')\n",
    "writer = cv2.VideoWriter(output_name, fourcc, fps, (h, w)) # Careful with the order\n",
    "\n",
    "for file in tqdm(files):\n",
    "    frame = cv2.imread(path + file) #, cv2.IMREAD_UNCHANGED)\n",
    "    # frame = cv2.cvtColor(frame, cv2.COLOR_GRAY2BGR)\n",
    "    writer.write(frame)\n",
    "    \n",
    "writer.release()"
   ]
  },
  {
   "cell_type": "code",
   "execution_count": 16,
   "id": "9c832cab-e0b5-49fd-958f-9d8958d1a71e",
   "metadata": {},
   "outputs": [
    {
     "data": {
      "text/plain": [
       "'chlamys_gliding.mp4'"
      ]
     },
     "execution_count": 16,
     "metadata": {},
     "output_type": "execute_result"
    }
   ],
   "source": [
    "output_name"
   ]
  },
  {
   "cell_type": "code",
   "execution_count": 17,
   "id": "617835af-b5e0-4c7b-b6e8-a3c15a24e442",
   "metadata": {},
   "outputs": [
    {
     "name": "stdout",
     "output_type": "stream",
     "text": [
      "540\n",
      "720\n"
     ]
    }
   ],
   "source": [
    "print(w)\n",
    "print(h)"
   ]
  },
  {
   "cell_type": "code",
   "execution_count": 18,
   "id": "415f87e5-0e30-455b-b270-6a29503a16d1",
   "metadata": {},
   "outputs": [
    {
     "data": {
      "text/plain": [
       "1.3333333333333333"
      ]
     },
     "execution_count": 18,
     "metadata": {},
     "output_type": "execute_result"
    }
   ],
   "source": [
    "h / w "
   ]
  },
  {
   "cell_type": "code",
   "execution_count": 19,
   "id": "fa6c17bc-b48b-4af9-b343-c5f60f5222bb",
   "metadata": {},
   "outputs": [
    {
     "data": {
      "text/plain": [
       "['Basler_acA720-520uc__40316400__20250221_122818365_0000.tiff',\n",
       " 'Basler_acA720-520uc__40316400__20250221_122818365_0001.tiff',\n",
       " 'Basler_acA720-520uc__40316400__20250221_122818365_0002.tiff',\n",
       " 'Basler_acA720-520uc__40316400__20250221_122818365_0003.tiff',\n",
       " 'Basler_acA720-520uc__40316400__20250221_122818365_0004.tiff',\n",
       " 'Basler_acA720-520uc__40316400__20250221_122818365_0005.tiff',\n",
       " 'Basler_acA720-520uc__40316400__20250221_122818365_0006.tiff',\n",
       " 'Basler_acA720-520uc__40316400__20250221_122818365_0007.tiff',\n",
       " 'Basler_acA720-520uc__40316400__20250221_122818365_0008.tiff',\n",
       " 'Basler_acA720-520uc__40316400__20250221_122818365_0009.tiff',\n",
       " 'Basler_acA720-520uc__40316400__20250221_122818365_0010.tiff',\n",
       " 'Basler_acA720-520uc__40316400__20250221_122818365_0011.tiff',\n",
       " 'Basler_acA720-520uc__40316400__20250221_122818365_0012.tiff',\n",
       " 'Basler_acA720-520uc__40316400__20250221_122818365_0013.tiff',\n",
       " 'Basler_acA720-520uc__40316400__20250221_122818365_0014.tiff',\n",
       " 'Basler_acA720-520uc__40316400__20250221_122818365_0015.tiff',\n",
       " 'Basler_acA720-520uc__40316400__20250221_122818365_0016.tiff',\n",
       " 'Basler_acA720-520uc__40316400__20250221_122818365_0017.tiff',\n",
       " 'Basler_acA720-520uc__40316400__20250221_122818365_0018.tiff',\n",
       " 'Basler_acA720-520uc__40316400__20250221_122818365_0019.tiff',\n",
       " 'Basler_acA720-520uc__40316400__20250221_122818365_0020.tiff',\n",
       " 'Basler_acA720-520uc__40316400__20250221_122818365_0021.tiff',\n",
       " 'Basler_acA720-520uc__40316400__20250221_122818365_0022.tiff',\n",
       " 'Basler_acA720-520uc__40316400__20250221_122818365_0023.tiff',\n",
       " 'Basler_acA720-520uc__40316400__20250221_122818365_0024.tiff',\n",
       " 'Basler_acA720-520uc__40316400__20250221_122818365_0025.tiff',\n",
       " 'Basler_acA720-520uc__40316400__20250221_122818365_0026.tiff',\n",
       " 'Basler_acA720-520uc__40316400__20250221_122818365_0027.tiff',\n",
       " 'Basler_acA720-520uc__40316400__20250221_122818365_0028.tiff',\n",
       " 'Basler_acA720-520uc__40316400__20250221_122818365_0029.tiff']"
      ]
     },
     "execution_count": 19,
     "metadata": {},
     "output_type": "execute_result"
    }
   ],
   "source": [
    "files[:30]"
   ]
  },
  {
   "cell_type": "code",
   "execution_count": 20,
   "id": "7b59f5c3-06b7-4b0d-92dc-a22b14bc23f6",
   "metadata": {},
   "outputs": [
    {
     "data": {
      "text/plain": [
       "11222"
      ]
     },
     "execution_count": 20,
     "metadata": {},
     "output_type": "execute_result"
    }
   ],
   "source": [
    "key('Basler_acA720-520uc__40316400__20250221_122818365_11222.tiff')"
   ]
  },
  {
   "cell_type": "code",
   "execution_count": null,
   "id": "3cfc2f7b-bf62-446f-a278-8b7f114358ec",
   "metadata": {},
   "outputs": [],
   "source": []
  },
  {
   "cell_type": "code",
   "execution_count": 36,
   "id": "7b211f8f-ed83-43dd-8fd3-4cf844b3cc2c",
   "metadata": {},
   "outputs": [
    {
     "ename": "ValueError",
     "evalue": "Could not find a backend to open `confined_PS_accelerated_by_10`` with iomode `w?`.",
     "output_type": "error",
     "traceback": [
      "\u001b[0;31m---------------------------------------------------------------------------\u001b[0m",
      "\u001b[0;31mValueError\u001b[0m                                Traceback (most recent call last)",
      "Cell \u001b[0;32mIn[36], line 9\u001b[0m\n\u001b[1;32m      5\u001b[0m videoClip \u001b[38;5;241m=\u001b[39m VideoFileClip(output_name)\n\u001b[1;32m      7\u001b[0m output_name_gif \u001b[38;5;241m=\u001b[39m output_name[:output_name\u001b[38;5;241m.\u001b[39mfind(\u001b[38;5;124m'\u001b[39m\u001b[38;5;124m.\u001b[39m\u001b[38;5;124m'\u001b[39m)]\n\u001b[0;32m----> 9\u001b[0m \u001b[43mvideoClip\u001b[49m\u001b[38;5;241;43m.\u001b[39;49m\u001b[43mwrite_gif\u001b[49m\u001b[43m(\u001b[49m\u001b[43moutput_name_gif\u001b[49m\u001b[43m)\u001b[49m\n",
      "File \u001b[0;32m<decorator-gen-78>:2\u001b[0m, in \u001b[0;36mwrite_gif\u001b[0;34m(self, filename, fps, program, opt, fuzz, verbose, loop, dispose, colors, tempfiles, logger)\u001b[0m\n",
      "File \u001b[0;32m~/miniconda3/envs/holography2/lib/python3.10/site-packages/moviepy/decorators.py:54\u001b[0m, in \u001b[0;36mrequires_duration\u001b[0;34m(f, clip, *a, **k)\u001b[0m\n\u001b[1;32m     52\u001b[0m     \u001b[38;5;28;01mraise\u001b[39;00m \u001b[38;5;167;01mValueError\u001b[39;00m(\u001b[38;5;124m\"\u001b[39m\u001b[38;5;124mAttribute \u001b[39m\u001b[38;5;124m'\u001b[39m\u001b[38;5;124mduration\u001b[39m\u001b[38;5;124m'\u001b[39m\u001b[38;5;124m not set\u001b[39m\u001b[38;5;124m\"\u001b[39m)\n\u001b[1;32m     53\u001b[0m \u001b[38;5;28;01melse\u001b[39;00m:\n\u001b[0;32m---> 54\u001b[0m     \u001b[38;5;28;01mreturn\u001b[39;00m \u001b[43mf\u001b[49m\u001b[43m(\u001b[49m\u001b[43mclip\u001b[49m\u001b[43m,\u001b[49m\u001b[43m \u001b[49m\u001b[38;5;241;43m*\u001b[39;49m\u001b[43ma\u001b[49m\u001b[43m,\u001b[49m\u001b[43m \u001b[49m\u001b[38;5;241;43m*\u001b[39;49m\u001b[38;5;241;43m*\u001b[39;49m\u001b[43mk\u001b[49m\u001b[43m)\u001b[49m\n",
      "File \u001b[0;32m<decorator-gen-77>:2\u001b[0m, in \u001b[0;36mwrite_gif\u001b[0;34m(self, filename, fps, program, opt, fuzz, verbose, loop, dispose, colors, tempfiles, logger)\u001b[0m\n",
      "File \u001b[0;32m~/miniconda3/envs/holography2/lib/python3.10/site-packages/moviepy/decorators.py:22\u001b[0m, in \u001b[0;36mconvert_masks_to_RGB\u001b[0;34m(f, clip, *a, **k)\u001b[0m\n\u001b[1;32m     20\u001b[0m \u001b[38;5;28;01mif\u001b[39;00m clip\u001b[38;5;241m.\u001b[39mismask:\n\u001b[1;32m     21\u001b[0m     clip \u001b[38;5;241m=\u001b[39m clip\u001b[38;5;241m.\u001b[39mto_RGB()\n\u001b[0;32m---> 22\u001b[0m \u001b[38;5;28;01mreturn\u001b[39;00m \u001b[43mf\u001b[49m\u001b[43m(\u001b[49m\u001b[43mclip\u001b[49m\u001b[43m,\u001b[49m\u001b[43m \u001b[49m\u001b[38;5;241;43m*\u001b[39;49m\u001b[43ma\u001b[49m\u001b[43m,\u001b[49m\u001b[43m \u001b[49m\u001b[38;5;241;43m*\u001b[39;49m\u001b[38;5;241;43m*\u001b[39;49m\u001b[43mk\u001b[49m\u001b[43m)\u001b[49m\n",
      "File \u001b[0;32m~/miniconda3/envs/holography2/lib/python3.10/site-packages/moviepy/video/VideoClip.py:432\u001b[0m, in \u001b[0;36mVideoClip.write_gif\u001b[0;34m(self, filename, fps, program, opt, fuzz, verbose, loop, dispose, colors, tempfiles, logger)\u001b[0m\n\u001b[1;32m    428\u001b[0m \u001b[38;5;66;03m# A little sketchy at the moment, maybe move all that in write_gif,\u001b[39;00m\n\u001b[1;32m    429\u001b[0m \u001b[38;5;66;03m#  refactor a little... we will see.\u001b[39;00m\n\u001b[1;32m    431\u001b[0m \u001b[38;5;28;01mif\u001b[39;00m program \u001b[38;5;241m==\u001b[39m \u001b[38;5;124m'\u001b[39m\u001b[38;5;124mimageio\u001b[39m\u001b[38;5;124m'\u001b[39m:\n\u001b[0;32m--> 432\u001b[0m     \u001b[43mwrite_gif_with_image_io\u001b[49m\u001b[43m(\u001b[49m\u001b[38;5;28;43mself\u001b[39;49m\u001b[43m,\u001b[49m\u001b[43m \u001b[49m\u001b[43mfilename\u001b[49m\u001b[43m,\u001b[49m\u001b[43m \u001b[49m\u001b[43mfps\u001b[49m\u001b[38;5;241;43m=\u001b[39;49m\u001b[43mfps\u001b[49m\u001b[43m,\u001b[49m\u001b[43m \u001b[49m\u001b[43mopt\u001b[49m\u001b[38;5;241;43m=\u001b[39;49m\u001b[43mopt\u001b[49m\u001b[43m,\u001b[49m\u001b[43m \u001b[49m\u001b[43mloop\u001b[49m\u001b[38;5;241;43m=\u001b[39;49m\u001b[43mloop\u001b[49m\u001b[43m,\u001b[49m\n\u001b[1;32m    433\u001b[0m \u001b[43m                            \u001b[49m\u001b[43mverbose\u001b[49m\u001b[38;5;241;43m=\u001b[39;49m\u001b[43mverbose\u001b[49m\u001b[43m,\u001b[49m\u001b[43m \u001b[49m\u001b[43mcolors\u001b[49m\u001b[38;5;241;43m=\u001b[39;49m\u001b[43mcolors\u001b[49m\u001b[43m,\u001b[49m\n\u001b[1;32m    434\u001b[0m \u001b[43m                            \u001b[49m\u001b[43mlogger\u001b[49m\u001b[38;5;241;43m=\u001b[39;49m\u001b[43mlogger\u001b[49m\u001b[43m)\u001b[49m\n\u001b[1;32m    435\u001b[0m \u001b[38;5;28;01melif\u001b[39;00m tempfiles:\n\u001b[1;32m    436\u001b[0m     \u001b[38;5;66;03m# convert imageio opt variable to something that can be used with\u001b[39;00m\n\u001b[1;32m    437\u001b[0m     \u001b[38;5;66;03m# ImageMagick\u001b[39;00m\n\u001b[1;32m    438\u001b[0m     opt \u001b[38;5;241m=\u001b[39m \u001b[38;5;124m'\u001b[39m\u001b[38;5;124moptimizeplus\u001b[39m\u001b[38;5;124m'\u001b[39m \u001b[38;5;28;01mif\u001b[39;00m opt \u001b[38;5;241m==\u001b[39m \u001b[38;5;124m'\u001b[39m\u001b[38;5;124mnq\u001b[39m\u001b[38;5;124m'\u001b[39m \u001b[38;5;28;01melse\u001b[39;00m \u001b[38;5;124m'\u001b[39m\u001b[38;5;124mOptimizeTransparency\u001b[39m\u001b[38;5;124m'\u001b[39m\n",
      "File \u001b[0;32m~/miniconda3/envs/holography2/lib/python3.10/site-packages/moviepy/video/io/gif_writers.py:274\u001b[0m, in \u001b[0;36mwrite_gif_with_image_io\u001b[0;34m(clip, filename, fps, opt, loop, colors, verbose, logger)\u001b[0m\n\u001b[1;32m    270\u001b[0m     fps \u001b[38;5;241m=\u001b[39m clip\u001b[38;5;241m.\u001b[39mfps\n\u001b[1;32m    272\u001b[0m quantizer \u001b[38;5;241m=\u001b[39m \u001b[38;5;241m0\u001b[39m \u001b[38;5;28;01mif\u001b[39;00m opt \u001b[38;5;241m!=\u001b[39m \u001b[38;5;241m0\u001b[39m \u001b[38;5;28;01melse\u001b[39;00m \u001b[38;5;124m'\u001b[39m\u001b[38;5;124mnq\u001b[39m\u001b[38;5;124m'\u001b[39m\n\u001b[0;32m--> 274\u001b[0m writer \u001b[38;5;241m=\u001b[39m \u001b[43mimageio\u001b[49m\u001b[38;5;241;43m.\u001b[39;49m\u001b[43msave\u001b[49m\u001b[43m(\u001b[49m\n\u001b[1;32m    275\u001b[0m \u001b[43m    \u001b[49m\u001b[43mfilename\u001b[49m\u001b[43m,\u001b[49m\n\u001b[1;32m    276\u001b[0m \u001b[43m    \u001b[49m\u001b[43mduration\u001b[49m\u001b[38;5;241;43m=\u001b[39;49m\u001b[38;5;241;43m1.0\u001b[39;49m\u001b[38;5;241;43m/\u001b[39;49m\u001b[43mfps\u001b[49m\u001b[43m,\u001b[49m\n\u001b[1;32m    277\u001b[0m \u001b[43m    \u001b[49m\u001b[43mquantizer\u001b[49m\u001b[38;5;241;43m=\u001b[39;49m\u001b[43mquantizer\u001b[49m\u001b[43m,\u001b[49m\n\u001b[1;32m    278\u001b[0m \u001b[43m    \u001b[49m\u001b[43mpalettesize\u001b[49m\u001b[38;5;241;43m=\u001b[39;49m\u001b[43mcolors\u001b[49m\u001b[43m,\u001b[49m\n\u001b[1;32m    279\u001b[0m \u001b[43m    \u001b[49m\u001b[43mloop\u001b[49m\u001b[38;5;241;43m=\u001b[39;49m\u001b[43mloop\u001b[49m\n\u001b[1;32m    280\u001b[0m \u001b[43m    \u001b[49m\u001b[43m)\u001b[49m\n\u001b[1;32m    281\u001b[0m logger(message\u001b[38;5;241m=\u001b[39m\u001b[38;5;124m'\u001b[39m\u001b[38;5;124mMoviePy - Building file \u001b[39m\u001b[38;5;132;01m%s\u001b[39;00m\u001b[38;5;124m with imageio.\u001b[39m\u001b[38;5;124m'\u001b[39m \u001b[38;5;241m%\u001b[39m filename)\n\u001b[1;32m    283\u001b[0m \u001b[38;5;28;01mfor\u001b[39;00m frame \u001b[38;5;129;01min\u001b[39;00m clip\u001b[38;5;241m.\u001b[39miter_frames(fps\u001b[38;5;241m=\u001b[39mfps, logger\u001b[38;5;241m=\u001b[39mlogger, dtype\u001b[38;5;241m=\u001b[39m\u001b[38;5;124m'\u001b[39m\u001b[38;5;124muint8\u001b[39m\u001b[38;5;124m'\u001b[39m):\n",
      "File \u001b[0;32m~/miniconda3/envs/holography2/lib/python3.10/site-packages/imageio/v2.py:189\u001b[0m, in \u001b[0;36mget_writer\u001b[0;34m(uri, format, mode, **kwargs)\u001b[0m\n\u001b[1;32m    186\u001b[0m imopen_args \u001b[38;5;241m=\u001b[39m decypher_format_arg(\u001b[38;5;28mformat\u001b[39m)\n\u001b[1;32m    187\u001b[0m imopen_args[\u001b[38;5;124m\"\u001b[39m\u001b[38;5;124mlegacy_mode\u001b[39m\u001b[38;5;124m\"\u001b[39m] \u001b[38;5;241m=\u001b[39m \u001b[38;5;28;01mTrue\u001b[39;00m\n\u001b[0;32m--> 189\u001b[0m image_file \u001b[38;5;241m=\u001b[39m \u001b[43mimopen\u001b[49m\u001b[43m(\u001b[49m\u001b[43muri\u001b[49m\u001b[43m,\u001b[49m\u001b[43m \u001b[49m\u001b[38;5;124;43m\"\u001b[39;49m\u001b[38;5;124;43mw\u001b[39;49m\u001b[38;5;124;43m\"\u001b[39;49m\u001b[43m \u001b[49m\u001b[38;5;241;43m+\u001b[39;49m\u001b[43m \u001b[49m\u001b[43mmode\u001b[49m\u001b[43m,\u001b[49m\u001b[43m \u001b[49m\u001b[38;5;241;43m*\u001b[39;49m\u001b[38;5;241;43m*\u001b[39;49m\u001b[43mimopen_args\u001b[49m\u001b[43m)\u001b[49m\n\u001b[1;32m    190\u001b[0m \u001b[38;5;28;01mreturn\u001b[39;00m image_file\u001b[38;5;241m.\u001b[39mlegacy_get_writer(\u001b[38;5;241m*\u001b[39m\u001b[38;5;241m*\u001b[39mkwargs)\n",
      "File \u001b[0;32m~/miniconda3/envs/holography2/lib/python3.10/site-packages/imageio/core/imopen.py:303\u001b[0m, in \u001b[0;36mimopen\u001b[0;34m(uri, io_mode, plugin, extension, format_hint, legacy_mode, **kwargs)\u001b[0m\n\u001b[1;32m    297\u001b[0m         err_msg \u001b[38;5;241m+\u001b[39m\u001b[38;5;241m=\u001b[39m (\n\u001b[1;32m    298\u001b[0m             \u001b[38;5;124m\"\u001b[39m\u001b[38;5;130;01m\\n\u001b[39;00m\u001b[38;5;124mBased on the extension, the following plugins might add capable backends:\u001b[39m\u001b[38;5;130;01m\\n\u001b[39;00m\u001b[38;5;124m\"\u001b[39m\n\u001b[1;32m    299\u001b[0m             \u001b[38;5;124mf\u001b[39m\u001b[38;5;124m\"\u001b[39m\u001b[38;5;132;01m{\u001b[39;00minstall_candidates\u001b[38;5;132;01m}\u001b[39;00m\u001b[38;5;124m\"\u001b[39m\n\u001b[1;32m    300\u001b[0m         )\n\u001b[1;32m    302\u001b[0m request\u001b[38;5;241m.\u001b[39mfinish()\n\u001b[0;32m--> 303\u001b[0m \u001b[38;5;28;01mraise\u001b[39;00m err_type(err_msg)\n",
      "\u001b[0;31mValueError\u001b[0m: Could not find a backend to open `confined_PS_accelerated_by_10`` with iomode `w?`."
     ]
    }
   ],
   "source": [
    "# Convert a video to a gif\n",
    "\n",
    "from moviepy.editor import VideoFileClip\n",
    "\n",
    "videoClip = VideoFileClip(output_name)\n",
    "\n",
    "output_name_gif = output_name[:output_name.find('.')]\n",
    "\n",
    "videoClip.write_gif(output_name_gif)"
   ]
  },
  {
   "cell_type": "code",
   "execution_count": null,
   "id": "d5a587a9-e112-47b2-90a6-47f483b588fc",
   "metadata": {},
   "outputs": [],
   "source": []
  },
  {
   "cell_type": "code",
   "execution_count": null,
   "id": "1469cc24-9228-42e6-b10a-376890fa0cd7",
   "metadata": {},
   "outputs": [],
   "source": []
  },
  {
   "cell_type": "code",
   "execution_count": null,
   "id": "ffe7f1ec-0f4b-4c76-8c3a-e0e7e91bbabb",
   "metadata": {},
   "outputs": [],
   "source": []
  },
  {
   "cell_type": "code",
   "execution_count": null,
   "id": "3ef7f032-1baf-4858-b6fd-40ae2d878f0a",
   "metadata": {},
   "outputs": [],
   "source": []
  },
  {
   "cell_type": "code",
   "execution_count": null,
   "id": "9c9d1fcb-6c9a-435b-b432-caa4ad14a6b9",
   "metadata": {},
   "outputs": [],
   "source": []
  },
  {
   "cell_type": "code",
   "execution_count": null,
   "id": "00481581-2c04-44fe-8d33-9ecb5b5cc168",
   "metadata": {},
   "outputs": [],
   "source": []
  },
  {
   "cell_type": "code",
   "execution_count": null,
   "id": "e3e922b8-6de1-4164-8dd6-aa33a966ef38",
   "metadata": {},
   "outputs": [],
   "source": []
  },
  {
   "cell_type": "code",
   "execution_count": null,
   "id": "23635bfd-5012-40d7-937a-2c769a5c1d2b",
   "metadata": {},
   "outputs": [],
   "source": []
  },
  {
   "cell_type": "code",
   "execution_count": null,
   "id": "5a5c92f8-d3b6-4920-8ed0-1b5d08f05c08",
   "metadata": {},
   "outputs": [],
   "source": []
  },
  {
   "cell_type": "code",
   "execution_count": null,
   "id": "e5221547-eda3-4226-8f51-cdbda13b8824",
   "metadata": {},
   "outputs": [],
   "source": []
  }
 ],
 "metadata": {
  "kernelspec": {
   "display_name": "Python 3 (ipykernel)",
   "language": "python",
   "name": "python3"
  },
  "language_info": {
   "codemirror_mode": {
    "name": "ipython",
    "version": 3
   },
   "file_extension": ".py",
   "mimetype": "text/x-python",
   "name": "python",
   "nbconvert_exporter": "python",
   "pygments_lexer": "ipython3",
   "version": "3.13.2"
  }
 },
 "nbformat": 4,
 "nbformat_minor": 5
}
