{
 "cells": [
  {
   "cell_type": "markdown",
   "id": "5bee16f2-7275-4aef-8ce2-37da68604481",
   "metadata": {},
   "source": [
    "# Tracking of a Spheroidal Colloid with Holopy"
   ]
  },
  {
   "cell_type": "code",
   "execution_count": null,
   "id": "b41e9974-2038-4e2b-8a02-cfbfa0eae8d9",
   "metadata": {},
   "outputs": [],
   "source": []
  },
  {
   "cell_type": "code",
   "execution_count": null,
   "id": "17ab1ae6-ada9-4c6c-8746-24ca6ce05523",
   "metadata": {},
   "outputs": [],
   "source": []
  },
  {
   "cell_type": "code",
   "execution_count": null,
   "id": "739e1978-f6d3-4c30-b3b6-54b6d3a1fcfe",
   "metadata": {},
   "outputs": [],
   "source": []
  }
 ],
 "metadata": {
  "kernelspec": {
   "display_name": "Python 3 (ipykernel)",
   "language": "python",
   "name": "python3"
  },
  "language_info": {
   "codemirror_mode": {
    "name": "ipython",
    "version": 3
   },
   "file_extension": ".py",
   "mimetype": "text/x-python",
   "name": "python",
   "nbconvert_exporter": "python",
   "pygments_lexer": "ipython3",
   "version": "3.9.22"
  }
 },
 "nbformat": 4,
 "nbformat_minor": 5
}
